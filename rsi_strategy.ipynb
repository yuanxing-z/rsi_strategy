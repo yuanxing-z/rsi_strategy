{
 "cells": [
  {
   "metadata": {},
   "cell_type": "markdown",
   "source": "### Import Libraries",
   "id": "a02ce754caca8f84"
  },
  {
   "metadata": {},
   "cell_type": "code",
   "source": [
    "import yfinance as yf\n",
    "import pandas as pd\n",
    "import numpy as np\n",
    "from datetime import datetime, timedelta\n",
    "import matplotlib.pyplot as plt\n"
   ],
   "id": "52fe818dba031716",
   "outputs": [],
   "execution_count": null
  },
  {
   "metadata": {},
   "cell_type": "markdown",
   "source": "### Define Configs",
   "id": "6ee0e4f2c5ae4427"
  },
  {
   "metadata": {},
   "cell_type": "code",
   "source": [
    "tickers = {\n",
    "    'MSFT': {'ipo': '1986-03-13'},\n",
    "    'AAPL': {'ipo': '1980-12-12'},\n",
    "    'NVDA': {'ipo': '1999-01-22'},\n",
    "    'AMZN': {'ipo': '1997-05-15'},\n",
    "    'GOOG': {'ipo': '2004-08-19'},\n",
    "    'META': {'ipo': '2012-05-18'},\n",
    "    'TSLA': {'ipo': '2010-06-29'}\n",
    "}\n",
    "\n",
    "initial_capital = 1_000_000\n",
    "commission = 0.001  # 0.10%\n",
    "slippage = 0.0002  # 0.02%\n",
    "min_shares = 10\n",
    "risk_free_rate = 0.02\n",
    "trading_days = 252  # Annual trading days\n",
    "start_date = \"1981-01-01\"\n",
    "end_date = \"2023-12-31\"\n"
   ],
   "id": "e86ec484216f9ddb",
   "outputs": [],
   "execution_count": null
  },
  {
   "metadata": {},
   "cell_type": "markdown",
   "source": "### Fetching data",
   "id": "3aaf34be1e762bf2"
  },
  {
   "metadata": {},
   "cell_type": "code",
   "source": [
    "def fetch_data(tickers):\n",
    "    data = {}\n",
    "    for ticker, details in tickers.items():\n",
    "        ipo_date = details['ipo']\n",
    "        print(f\"Fetching data for {ticker} (IPO: {ipo_date})...\")\n",
    "\n",
    "        df = yf.download(ticker, start=ipo_date, end=end_date, auto_adjust=True)\n",
    "\n",
    "        if df.empty:\n",
    "            print(f\"Warning: No data for {ticker}.\")\n",
    "            continue\n",
    "\n",
    "        df['Ticker'] = ticker\n",
    "        data[ticker] = df\n",
    "    return data\n",
    "\n",
    "data = fetch_data(tickers)\n"
   ],
   "id": "ebd39bc99357091d",
   "outputs": [],
   "execution_count": null
  },
  {
   "metadata": {},
   "cell_type": "markdown",
   "source": "### Compute RSI",
   "id": "5c781d9ab186ca3e"
  },
  {
   "metadata": {},
   "cell_type": "code",
   "source": [
    "def compute_rsi(series, window=14):\n",
    "    delta = series.diff()\n",
    "    gain = delta.where(delta > 0, 0)\n",
    "    loss = -delta.where(delta < 0, 0)\n",
    "\n",
    "    avg_gain = gain.rolling(window, min_periods=1).mean()\n",
    "    avg_loss = loss.rolling(window, min_periods=1).mean()\n",
    "\n",
    "    rs = avg_gain / avg_loss\n",
    "    rsi = 100 - (100 / (1 + rs))\n",
    "    return rsi\n",
    "\n",
    "for ticker in data:\n",
    "    df = data[ticker]\n",
    "    df['RSI'] = compute_rsi(df['Close'])\n"
   ],
   "id": "17d8600b47c97f60",
   "outputs": [],
   "execution_count": null
  },
  {
   "metadata": {},
   "cell_type": "code",
   "source": [
    "signals = {}\n",
    "for ticker in data:\n",
    "    df = data[ticker]\n",
    "    df['signal'] = np.where(df['RSI'] < 25, 'buy', np.where(df['RSI'] > 75, 'sell', None))\n",
    "    df['position'] = None\n",
    "    signals[ticker] = df[['signal', 'position']]\n"
   ],
   "id": "b46f3ae12d1f5781",
   "outputs": [],
   "execution_count": null
  },
  {
   "metadata": {},
   "cell_type": "code",
   "source": [
    "all_dates = pd.date_range(start=start_date, end=end_date)\n",
    "signals_df = pd.DataFrame(index=all_dates)\n",
    "\n",
    "for ticker in tickers:\n",
    "    if ticker in signals:\n",
    "        signals_df[ticker] = signals[ticker]['Signal']\n",
    "\n",
    "positions_df = signals_df.copy()\n",
    "positions_df[:] = None  # Start with no positions\n",
    "\n",
    "for ticker in tickers:\n",
    "    if ticker in signals:\n",
    "        prev_position = None\n",
    "        for date in signals_df.index:\n",
    "            current_signal = signals_df.at[date, ticker] if date in signals_df.index else None\n",
    "\n",
    "            if current_signal == 'buy':\n",
    "                prev_position = 1  # Long position\n",
    "            elif current_signal == 'sell':\n",
    "                prev_position = 0  # Exit position\n",
    "            else:\n",
    "                prev_position = prev_position  # Maintain previous position\n",
    "\n",
    "            positions_df.at[date, ticker] = prev_position\n"
   ],
   "id": "f639b8514bf24a61",
   "outputs": [],
   "execution_count": null
  },
  {
   "metadata": {},
   "cell_type": "code",
   "outputs": [],
   "execution_count": null,
   "source": "# TODO: Backtest",
   "id": "69dd0cdb56e16d96"
  }
 ],
 "metadata": {
  "kernelspec": {
   "display_name": "Python 3",
   "language": "python",
   "name": "python3"
  },
  "language_info": {
   "codemirror_mode": {
    "name": "ipython",
    "version": 2
   },
   "file_extension": ".py",
   "mimetype": "text/x-python",
   "name": "python",
   "nbconvert_exporter": "python",
   "pygments_lexer": "ipython2",
   "version": "2.7.6"
  }
 },
 "nbformat": 4,
 "nbformat_minor": 5
}
