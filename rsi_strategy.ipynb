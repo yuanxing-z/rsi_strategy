{
 "cells": [
  {
   "metadata": {},
   "cell_type": "markdown",
   "source": "### Import Libraries",
   "id": "a02ce754caca8f84"
  },
  {
   "metadata": {
    "ExecuteTime": {
     "end_time": "2025-03-09T12:43:40.356237Z",
     "start_time": "2025-03-09T12:43:39.142060Z"
    }
   },
   "cell_type": "code",
   "source": [
    "import yfinance as yf\n",
    "import pandas as pd\n",
    "import numpy as np\n",
    "from datetime import datetime, timedelta\n",
    "import matplotlib.pyplot as plt\n"
   ],
   "id": "52fe818dba031716",
   "outputs": [],
   "execution_count": 1
  },
  {
   "metadata": {},
   "cell_type": "markdown",
   "source": "### Define Configs",
   "id": "6ee0e4f2c5ae4427"
  },
  {
   "metadata": {
    "ExecuteTime": {
     "end_time": "2025-03-09T12:43:42.179501Z",
     "start_time": "2025-03-09T12:43:42.176475Z"
    }
   },
   "cell_type": "code",
   "source": [
    "tickers = {\n",
    "    'MSFT': {'ipo': '1986-03-13'},\n",
    "    'AAPL': {'ipo': '1980-12-12'},\n",
    "    'NVDA': {'ipo': '1999-01-22'},\n",
    "    'AMZN': {'ipo': '1997-05-15'},\n",
    "    'GOOG': {'ipo': '2004-08-19'},\n",
    "    'META': {'ipo': '2012-05-18'},\n",
    "    'TSLA': {'ipo': '2010-06-29'}\n",
    "}\n",
    "\n",
    "initial_capital = 1_000_000\n",
    "commission = 0.001  # 0.10%\n",
    "slippage = 0.0002  # 0.02%\n",
    "min_shares = 10\n",
    "risk_free_rate = 0.02\n",
    "trading_days = 252  # Annual trading days\n",
    "start_date = \"1981-01-01\"\n",
    "end_date = \"2023-12-31\"\n"
   ],
   "id": "e86ec484216f9ddb",
   "outputs": [],
   "execution_count": 2
  },
  {
   "metadata": {},
   "cell_type": "markdown",
   "source": "### Fetching data",
   "id": "3aaf34be1e762bf2"
  },
  {
   "metadata": {
    "ExecuteTime": {
     "end_time": "2025-03-09T12:43:47.505332Z",
     "start_time": "2025-03-09T12:43:46.172837Z"
    }
   },
   "cell_type": "code",
   "source": [
    "def fetch_data(tickers):\n",
    "    data = {}\n",
    "    for ticker, details in tickers.items():\n",
    "        ipo_date = details['ipo']\n",
    "        print(f\"Fetching data for {ticker} (IPO: {ipo_date})...\")\n",
    "\n",
    "        df = yf.download(ticker, start=ipo_date, end=end_date, auto_adjust=True)\n",
    "\n",
    "        if df.empty:\n",
    "            print(f\"Warning: No data for {ticker}.\")\n",
    "            continue\n",
    "\n",
    "        df['Ticker'] = ticker\n",
    "        data[ticker] = df\n",
    "    return data\n",
    "\n",
    "data = fetch_data(tickers)\n"
   ],
   "id": "ebd39bc99357091d",
   "outputs": [
    {
     "name": "stdout",
     "output_type": "stream",
     "text": [
      "Fetching data for MSFT (IPO: 1986-03-13)...\n"
     ]
    },
    {
     "name": "stderr",
     "output_type": "stream",
     "text": [
      "[*********************100%***********************]  1 of 1 completed\n"
     ]
    },
    {
     "name": "stdout",
     "output_type": "stream",
     "text": [
      "Fetching data for AAPL (IPO: 1980-12-12)...\n"
     ]
    },
    {
     "name": "stderr",
     "output_type": "stream",
     "text": [
      "[*********************100%***********************]  1 of 1 completed\n",
      "[*********************100%***********************]  1 of 1 completed"
     ]
    },
    {
     "name": "stdout",
     "output_type": "stream",
     "text": [
      "Fetching data for NVDA (IPO: 1999-01-22)...\n"
     ]
    },
    {
     "name": "stderr",
     "output_type": "stream",
     "text": [
      "\n",
      "[*********************100%***********************]  1 of 1 completed\n"
     ]
    },
    {
     "name": "stdout",
     "output_type": "stream",
     "text": [
      "Fetching data for AMZN (IPO: 1997-05-15)...\n",
      "Fetching data for GOOG (IPO: 2004-08-19)...\n"
     ]
    },
    {
     "name": "stderr",
     "output_type": "stream",
     "text": [
      "[*********************100%***********************]  1 of 1 completed\n",
      "[*********************100%***********************]  1 of 1 completed\n",
      "[*********************100%***********************]  1 of 1 completed"
     ]
    },
    {
     "name": "stdout",
     "output_type": "stream",
     "text": [
      "Fetching data for META (IPO: 2012-05-18)...\n",
      "Fetching data for TSLA (IPO: 2010-06-29)...\n"
     ]
    },
    {
     "name": "stderr",
     "output_type": "stream",
     "text": [
      "\n"
     ]
    }
   ],
   "execution_count": 3
  },
  {
   "metadata": {},
   "cell_type": "markdown",
   "source": "### Compute RSI",
   "id": "5c781d9ab186ca3e"
  },
  {
   "metadata": {
    "ExecuteTime": {
     "end_time": "2025-03-09T12:43:58.127840Z",
     "start_time": "2025-03-09T12:43:58.110378Z"
    }
   },
   "cell_type": "code",
   "source": [
    "def compute_rsi(series, window=14):\n",
    "    delta = series.diff()\n",
    "    gain = delta.where(delta > 0, 0)\n",
    "    loss = -delta.where(delta < 0, 0)\n",
    "\n",
    "    avg_gain = gain.rolling(window, min_periods=1).mean()\n",
    "    avg_loss = loss.rolling(window, min_periods=1).mean()\n",
    "\n",
    "    rs = avg_gain / avg_loss\n",
    "    rsi = 100 - (100 / (1 + rs))\n",
    "    return rsi\n",
    "\n",
    "for ticker in data:\n",
    "    df = data[ticker]\n",
    "    df['RSI'] = compute_rsi(df['Close'])\n"
   ],
   "id": "17d8600b47c97f60",
   "outputs": [],
   "execution_count": 4
  },
  {
   "metadata": {
    "ExecuteTime": {
     "end_time": "2025-03-09T12:44:41.400611Z",
     "start_time": "2025-03-09T12:44:41.386393Z"
    }
   },
   "cell_type": "code",
   "source": [
    "signals = {}\n",
    "for ticker in data:\n",
    "    df = data[ticker]\n",
    "    df['Signal'] = np.where(df['RSI'] < 25, 'buy', np.where(df['RSI'] > 75, 'sell', None))\n",
    "    df['Position'] = None\n",
    "    signals[ticker] = df[['Signal', 'Position']]\n"
   ],
   "id": "b46f3ae12d1f5781",
   "outputs": [],
   "execution_count": 7
  },
  {
   "metadata": {
    "ExecuteTime": {
     "end_time": "2025-03-09T12:44:45.059908Z",
     "start_time": "2025-03-09T12:44:43.799104Z"
    }
   },
   "cell_type": "code",
   "source": [
    "all_dates = pd.date_range(start=start_date, end=end_date)\n",
    "signals_df = pd.DataFrame(index=all_dates)\n",
    "\n",
    "for ticker in tickers:\n",
    "    if ticker in signals:\n",
    "        signals_df[ticker] = signals[ticker]['Signal']\n",
    "\n",
    "positions_df = signals_df.copy()\n",
    "positions_df[:] = None  # Start with no positions\n",
    "\n",
    "for ticker in tickers:\n",
    "    if ticker in signals:\n",
    "        prev_position = None\n",
    "        for date in signals_df.index:\n",
    "            current_signal = signals_df.at[date, ticker] if date in signals_df.index else None\n",
    "\n",
    "            if current_signal == 'buy':\n",
    "                prev_position = 1  # Long position\n",
    "            elif current_signal == 'sell':\n",
    "                prev_position = 0  # Exit position\n",
    "            else:\n",
    "                prev_position = prev_position  # Maintain previous position\n",
    "\n",
    "            positions_df.at[date, ticker] = prev_position\n"
   ],
   "id": "f639b8514bf24a61",
   "outputs": [],
   "execution_count": 8
  },
  {
   "metadata": {
    "ExecuteTime": {
     "end_time": "2025-03-09T12:45:07.314178Z",
     "start_time": "2025-03-09T12:45:07.303844Z"
    }
   },
   "cell_type": "code",
   "source": "signals",
   "id": "23dcb4f7b7ebaa42",
   "outputs": [
    {
     "data": {
      "text/plain": [
       "{'MSFT': Price      Signal Position\n",
       " Ticker                    \n",
       " Date                      \n",
       " 1986-03-13   None     None\n",
       " 1986-03-14   sell     None\n",
       " 1986-03-17   sell     None\n",
       " 1986-03-18   None     None\n",
       " 1986-03-19   None     None\n",
       " ...           ...      ...\n",
       " 2023-12-22   None     None\n",
       " 2023-12-26   None     None\n",
       " 2023-12-27   None     None\n",
       " 2023-12-28   None     None\n",
       " 2023-12-29   None     None\n",
       " \n",
       " [9527 rows x 2 columns],\n",
       " 'AAPL': Price      Signal Position\n",
       " Ticker                    \n",
       " Date                      \n",
       " 1980-12-12   None     None\n",
       " 1980-12-15    buy     None\n",
       " 1980-12-16    buy     None\n",
       " 1980-12-17    buy     None\n",
       " 1980-12-18   None     None\n",
       " ...           ...      ...\n",
       " 2023-12-22   None     None\n",
       " 2023-12-26   None     None\n",
       " 2023-12-27   None     None\n",
       " 2023-12-28   None     None\n",
       " 2023-12-29   None     None\n",
       " \n",
       " [10853 rows x 2 columns],\n",
       " 'NVDA': Price      Signal Position\n",
       " Ticker                    \n",
       " Date                      \n",
       " 1999-01-22   None     None\n",
       " 1999-01-25   sell     None\n",
       " 1999-01-26   None     None\n",
       " 1999-01-27   None     None\n",
       " 1999-01-28   None     None\n",
       " ...           ...      ...\n",
       " 2023-12-22   None     None\n",
       " 2023-12-26   None     None\n",
       " 2023-12-27   None     None\n",
       " 2023-12-28   None     None\n",
       " 2023-12-29   None     None\n",
       " \n",
       " [6276 rows x 2 columns],\n",
       " 'AMZN': Price      Signal Position\n",
       " Ticker                    \n",
       " Date                      \n",
       " 1997-05-15   None     None\n",
       " 1997-05-16    buy     None\n",
       " 1997-05-19    buy     None\n",
       " 1997-05-20    buy     None\n",
       " 1997-05-21    buy     None\n",
       " ...           ...      ...\n",
       " 2023-12-22   None     None\n",
       " 2023-12-26   None     None\n",
       " 2023-12-27   None     None\n",
       " 2023-12-28   None     None\n",
       " 2023-12-29   None     None\n",
       " \n",
       " [6701 rows x 2 columns],\n",
       " 'GOOG': Price      Signal Position\n",
       " Ticker                    \n",
       " Date                      \n",
       " 2004-08-19   None     None\n",
       " 2004-08-20   sell     None\n",
       " 2004-08-23   sell     None\n",
       " 2004-08-24   None     None\n",
       " 2004-08-25   None     None\n",
       " ...           ...      ...\n",
       " 2023-12-22   None     None\n",
       " 2023-12-26   None     None\n",
       " 2023-12-27   None     None\n",
       " 2023-12-28   None     None\n",
       " 2023-12-29   None     None\n",
       " \n",
       " [4875 rows x 2 columns],\n",
       " 'META': Price      Signal Position\n",
       " Ticker                    \n",
       " Date                      \n",
       " 2012-05-18   None     None\n",
       " 2012-05-21    buy     None\n",
       " 2012-05-22    buy     None\n",
       " 2012-05-23    buy     None\n",
       " 2012-05-24    buy     None\n",
       " ...           ...      ...\n",
       " 2023-12-22   sell     None\n",
       " 2023-12-26   sell     None\n",
       " 2023-12-27   sell     None\n",
       " 2023-12-28   sell     None\n",
       " 2023-12-29   None     None\n",
       " \n",
       " [2923 rows x 2 columns],\n",
       " 'TSLA': Price      Signal Position\n",
       " Ticker                    \n",
       " Date                      \n",
       " 2010-06-29   None     None\n",
       " 2010-06-30    buy     None\n",
       " 2010-07-01    buy     None\n",
       " 2010-07-02    buy     None\n",
       " 2010-07-06    buy     None\n",
       " ...           ...      ...\n",
       " 2023-12-22   None     None\n",
       " 2023-12-26   None     None\n",
       " 2023-12-27   None     None\n",
       " 2023-12-28   None     None\n",
       " 2023-12-29   None     None\n",
       " \n",
       " [3400 rows x 2 columns]}"
      ]
     },
     "execution_count": 9,
     "metadata": {},
     "output_type": "execute_result"
    }
   ],
   "execution_count": 9
  },
  {
   "metadata": {
    "ExecuteTime": {
     "end_time": "2025-03-09T12:45:25.750758Z",
     "start_time": "2025-03-09T12:45:25.635160Z"
    }
   },
   "cell_type": "code",
   "source": "positions_df['Position']",
   "id": "3511e97abbb8f3b6",
   "outputs": [
    {
     "ename": "KeyError",
     "evalue": "'Position'",
     "output_type": "error",
     "traceback": [
      "\u001B[31m---------------------------------------------------------------------------\u001B[39m",
      "\u001B[31mKeyError\u001B[39m                                  Traceback (most recent call last)",
      "\u001B[36mFile \u001B[39m\u001B[32m~\\anaconda3\\envs\\rsi_strategy\\Lib\\site-packages\\pandas\\core\\indexes\\base.py:3805\u001B[39m, in \u001B[36mIndex.get_loc\u001B[39m\u001B[34m(self, key)\u001B[39m\n\u001B[32m   3804\u001B[39m \u001B[38;5;28;01mtry\u001B[39;00m:\n\u001B[32m-> \u001B[39m\u001B[32m3805\u001B[39m     \u001B[38;5;28;01mreturn\u001B[39;00m \u001B[38;5;28;43mself\u001B[39;49m\u001B[43m.\u001B[49m\u001B[43m_engine\u001B[49m\u001B[43m.\u001B[49m\u001B[43mget_loc\u001B[49m\u001B[43m(\u001B[49m\u001B[43mcasted_key\u001B[49m\u001B[43m)\u001B[49m\n\u001B[32m   3806\u001B[39m \u001B[38;5;28;01mexcept\u001B[39;00m \u001B[38;5;167;01mKeyError\u001B[39;00m \u001B[38;5;28;01mas\u001B[39;00m err:\n",
      "\u001B[36mFile \u001B[39m\u001B[32mindex.pyx:167\u001B[39m, in \u001B[36mpandas._libs.index.IndexEngine.get_loc\u001B[39m\u001B[34m()\u001B[39m\n",
      "\u001B[36mFile \u001B[39m\u001B[32mindex.pyx:196\u001B[39m, in \u001B[36mpandas._libs.index.IndexEngine.get_loc\u001B[39m\u001B[34m()\u001B[39m\n",
      "\u001B[36mFile \u001B[39m\u001B[32mpandas\\\\_libs\\\\hashtable_class_helper.pxi:7081\u001B[39m, in \u001B[36mpandas._libs.hashtable.PyObjectHashTable.get_item\u001B[39m\u001B[34m()\u001B[39m\n",
      "\u001B[36mFile \u001B[39m\u001B[32mpandas\\\\_libs\\\\hashtable_class_helper.pxi:7089\u001B[39m, in \u001B[36mpandas._libs.hashtable.PyObjectHashTable.get_item\u001B[39m\u001B[34m()\u001B[39m\n",
      "\u001B[31mKeyError\u001B[39m: 'Position'",
      "\nThe above exception was the direct cause of the following exception:\n",
      "\u001B[31mKeyError\u001B[39m                                  Traceback (most recent call last)",
      "\u001B[36mCell\u001B[39m\u001B[36m \u001B[39m\u001B[32mIn[10]\u001B[39m\u001B[32m, line 1\u001B[39m\n\u001B[32m----> \u001B[39m\u001B[32m1\u001B[39m \u001B[43mpositions_df\u001B[49m\u001B[43m[\u001B[49m\u001B[33;43m'\u001B[39;49m\u001B[33;43mPosition\u001B[39;49m\u001B[33;43m'\u001B[39;49m\u001B[43m]\u001B[49m\n",
      "\u001B[36mFile \u001B[39m\u001B[32m~\\anaconda3\\envs\\rsi_strategy\\Lib\\site-packages\\pandas\\core\\frame.py:4102\u001B[39m, in \u001B[36mDataFrame.__getitem__\u001B[39m\u001B[34m(self, key)\u001B[39m\n\u001B[32m   4100\u001B[39m \u001B[38;5;28;01mif\u001B[39;00m \u001B[38;5;28mself\u001B[39m.columns.nlevels > \u001B[32m1\u001B[39m:\n\u001B[32m   4101\u001B[39m     \u001B[38;5;28;01mreturn\u001B[39;00m \u001B[38;5;28mself\u001B[39m._getitem_multilevel(key)\n\u001B[32m-> \u001B[39m\u001B[32m4102\u001B[39m indexer = \u001B[38;5;28;43mself\u001B[39;49m\u001B[43m.\u001B[49m\u001B[43mcolumns\u001B[49m\u001B[43m.\u001B[49m\u001B[43mget_loc\u001B[49m\u001B[43m(\u001B[49m\u001B[43mkey\u001B[49m\u001B[43m)\u001B[49m\n\u001B[32m   4103\u001B[39m \u001B[38;5;28;01mif\u001B[39;00m is_integer(indexer):\n\u001B[32m   4104\u001B[39m     indexer = [indexer]\n",
      "\u001B[36mFile \u001B[39m\u001B[32m~\\anaconda3\\envs\\rsi_strategy\\Lib\\site-packages\\pandas\\core\\indexes\\base.py:3812\u001B[39m, in \u001B[36mIndex.get_loc\u001B[39m\u001B[34m(self, key)\u001B[39m\n\u001B[32m   3807\u001B[39m     \u001B[38;5;28;01mif\u001B[39;00m \u001B[38;5;28misinstance\u001B[39m(casted_key, \u001B[38;5;28mslice\u001B[39m) \u001B[38;5;129;01mor\u001B[39;00m (\n\u001B[32m   3808\u001B[39m         \u001B[38;5;28misinstance\u001B[39m(casted_key, abc.Iterable)\n\u001B[32m   3809\u001B[39m         \u001B[38;5;129;01mand\u001B[39;00m \u001B[38;5;28many\u001B[39m(\u001B[38;5;28misinstance\u001B[39m(x, \u001B[38;5;28mslice\u001B[39m) \u001B[38;5;28;01mfor\u001B[39;00m x \u001B[38;5;129;01min\u001B[39;00m casted_key)\n\u001B[32m   3810\u001B[39m     ):\n\u001B[32m   3811\u001B[39m         \u001B[38;5;28;01mraise\u001B[39;00m InvalidIndexError(key)\n\u001B[32m-> \u001B[39m\u001B[32m3812\u001B[39m     \u001B[38;5;28;01mraise\u001B[39;00m \u001B[38;5;167;01mKeyError\u001B[39;00m(key) \u001B[38;5;28;01mfrom\u001B[39;00m\u001B[38;5;250m \u001B[39m\u001B[34;01merr\u001B[39;00m\n\u001B[32m   3813\u001B[39m \u001B[38;5;28;01mexcept\u001B[39;00m \u001B[38;5;167;01mTypeError\u001B[39;00m:\n\u001B[32m   3814\u001B[39m     \u001B[38;5;66;03m# If we have a listlike key, _check_indexing_error will raise\u001B[39;00m\n\u001B[32m   3815\u001B[39m     \u001B[38;5;66;03m#  InvalidIndexError. Otherwise we fall through and re-raise\u001B[39;00m\n\u001B[32m   3816\u001B[39m     \u001B[38;5;66;03m#  the TypeError.\u001B[39;00m\n\u001B[32m   3817\u001B[39m     \u001B[38;5;28mself\u001B[39m._check_indexing_error(key)\n",
      "\u001B[31mKeyError\u001B[39m: 'Position'"
     ]
    }
   ],
   "execution_count": 10
  },
  {
   "metadata": {},
   "cell_type": "code",
   "outputs": [],
   "execution_count": null,
   "source": "# TODO: Backtest",
   "id": "69dd0cdb56e16d96"
  }
 ],
 "metadata": {
  "kernelspec": {
   "display_name": "Python 3",
   "language": "python",
   "name": "python3"
  },
  "language_info": {
   "codemirror_mode": {
    "name": "ipython",
    "version": 2
   },
   "file_extension": ".py",
   "mimetype": "text/x-python",
   "name": "python",
   "nbconvert_exporter": "python",
   "pygments_lexer": "ipython2",
   "version": "2.7.6"
  }
 },
 "nbformat": 4,
 "nbformat_minor": 5
}
